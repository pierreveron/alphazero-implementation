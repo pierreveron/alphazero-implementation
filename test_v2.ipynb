{
 "cells": [
  {
   "cell_type": "code",
   "execution_count": 1,
   "metadata": {},
   "outputs": [],
   "source": [
    "%load_ext autoreload\n",
    "%autoreload 2"
   ]
  },
  {
   "cell_type": "code",
   "execution_count": 1,
   "metadata": {},
   "outputs": [],
   "source": [
    "from simulator.game.connect import Action, Config, State\n",
    "\n",
    "from alphazero_implementation.models.games.connect4 import CNNModel\n",
    "\n",
    "config = Config(6, 7, 4)\n",
    "\n",
    "\n",
    "path = \"/Users/pveron/Code/alphazero-implementation/checkpoints/run_156/model-epoch=1999.ckpt\"\n",
    "model = CNNModel.load_from_checkpoint(  # type: ignore[arg-type]\n",
    "    path,\n",
    "    height=config.height,\n",
    "    width=config.width,\n",
    "    max_actions=config.width,\n",
    "    num_players=config.num_players,\n",
    ").eval()\n"
   ]
  },
  {
   "cell_type": "code",
   "execution_count": 2,
   "metadata": {},
   "outputs": [],
   "source": [
    "state = config.sample_initial_state()\n",
    "json = {\n",
    "    \"config\": {\"count\": 4, \"height\": 6, \"width\": 7},\n",
    "    \"grid\": [\n",
    "        [0, 0, 0, -1, -1, 1, -1],\n",
    "        [-1, -1, -1, -1, -1, 1, -1],\n",
    "        [-1, -1, -1, -1, -1, 1, -1],\n",
    "        [-1, -1, -1, -1, -1, -1, -1],\n",
    "        [-1, -1, -1, -1, -1, -1, -1],\n",
    "        [-1, -1, -1, -1, -1, -1, -1],\n",
    "    ],\n",
    "    \"player\": 0,\n",
    "}\n",
    "\n",
    "state = State.from_json(json)"
   ]
  },
  {
   "cell_type": "code",
   "execution_count": 3,
   "metadata": {},
   "outputs": [],
   "source": [
    "def raw_policy(state: State) -> dict[Action, float]:\n",
    "    [policy], _ = model.predict([state])\n",
    "    return policy\n"
   ]
  },
  {
   "cell_type": "code",
   "execution_count": 4,
   "metadata": {},
   "outputs": [],
   "source": [
    "from alphazero_implementation.mcts.agent import MCTSAgent\n",
    "\n",
    "\n",
    "def improved_policy_v1(state: State) -> dict[Action, float]:\n",
    "    mcts = MCTSAgent(model, 1, 100, state)\n",
    "\n",
    "    episodes = mcts.run()\n",
    "    policy = episodes[0].samples[-1].policy\n",
    "    return policy\n"
   ]
  },
  {
   "cell_type": "code",
   "execution_count": 5,
   "metadata": {},
   "outputs": [],
   "source": [
    "from alphazero_implementation.mcts_v2.mcts import AlphaZeroMCTS\n",
    "from alphazero_implementation.mcts_v2.node import Node\n",
    "\n",
    "\n",
    "def improved_policy_v2(state: State) -> dict[Action, float]:\n",
    "    mcts = AlphaZeroMCTS(model)\n",
    "\n",
    "    root = Node(state)\n",
    "    policy = mcts.run(root, 100)\n",
    "    return policy"
   ]
  },
  {
   "cell_type": "code",
   "execution_count": 6,
   "metadata": {},
   "outputs": [
    {
     "name": "stdout",
     "output_type": "stream",
     "text": [
      "State:\n",
      "[[ 0  0  0 -1 -1  1 -1]\n",
      " [-1 -1 -1 -1 -1  1 -1]\n",
      " [-1 -1 -1 -1 -1  1 -1]\n",
      " [-1 -1 -1 -1 -1 -1 -1]\n",
      " [-1 -1 -1 -1 -1 -1 -1]\n",
      " [-1 -1 -1 -1 -1 -1 -1]]\n",
      "\n"
     ]
    }
   ],
   "source": [
    "print(\"State:\")\n",
    "print(state.grid)\n",
    "print()\n"
   ]
  },
  {
   "cell_type": "code",
   "execution_count": 7,
   "metadata": {},
   "outputs": [
    {
     "name": "stdout",
     "output_type": "stream",
     "text": [
      "run took 0.11 seconds to run.\n",
      "Raw policy:\n",
      "0: 0.0423\n",
      "1: 0.1359\n",
      "2: 0.0286\n",
      "3: 0.6309\n",
      "4: 0.0643\n",
      "5: 0.0581\n",
      "6: 0.0399\n",
      "\n",
      "MCTS v1 policy:\n",
      "0: 0.0057\n",
      "3: 0.0402\n",
      "5: 0.9540\n",
      "\n",
      "MCTS v2 policy:\n",
      "0: 0.0000\n",
      "1: 0.0500\n",
      "2: 0.0000\n",
      "3: 0.9400\n",
      "4: 0.0000\n",
      "5: 0.0000\n",
      "6: 0.0000\n"
     ]
    }
   ],
   "source": [
    "def print_policy(policy: dict[Action, float]):\n",
    "    for action, prob in policy.items():\n",
    "        print(f\"{action.column}: {prob:.4f}\")\n",
    "\n",
    "\n",
    "# Compare the three different policy functions\n",
    "state_policy = raw_policy(state)\n",
    "\n",
    "mcts_policy_v1 = improved_policy_v1(state)\n",
    "\n",
    "mcts_policy_v2 = improved_policy_v2(state)\n",
    "\n",
    "\n",
    "print(\"Raw policy:\")\n",
    "print_policy(state_policy)\n",
    "print()\n",
    "\n",
    "print(\"MCTS v1 policy:\")\n",
    "print_policy(mcts_policy_v1)\n",
    "print()\n",
    "\n",
    "print(\"MCTS v2 policy:\")\n",
    "print_policy(mcts_policy_v2)\n"
   ]
  },
  {
   "cell_type": "code",
   "execution_count": 11,
   "metadata": {},
   "outputs": [
    {
     "data": {
      "text/plain": [
       "{<simulator.game.connect.Action at 0x144377d70>: 0.0,\n",
       " <simulator.game.connect.Action at 0x1442ebc90>: 0.05,\n",
       " <simulator.game.connect.Action at 0x1442e80d0>: 0.0,\n",
       " <simulator.game.connect.Action at 0x1442e8e10>: 0.94,\n",
       " <simulator.game.connect.Action at 0x1442fdb30>: 0.0,\n",
       " <simulator.game.connect.Action at 0x1442fc4f0>: 0.0,\n",
       " <simulator.game.connect.Action at 0x1442fcf70>: 0.0}"
      ]
     },
     "execution_count": 11,
     "metadata": {},
     "output_type": "execute_result"
    }
   ],
   "source": [
    "mcts_policy_v2 = improved_policy_v2(state)\n",
    "mcts_policy_v2"
   ]
  },
  {
   "cell_type": "code",
   "execution_count": null,
   "metadata": {},
   "outputs": [],
   "source": []
  }
 ],
 "metadata": {
  "kernelspec": {
   "display_name": ".venv",
   "language": "python",
   "name": "python3"
  },
  "language_info": {
   "codemirror_mode": {
    "name": "ipython",
    "version": 3
   },
   "file_extension": ".py",
   "mimetype": "text/x-python",
   "name": "python",
   "nbconvert_exporter": "python",
   "pygments_lexer": "ipython3",
   "version": "3.12.2"
  }
 },
 "nbformat": 4,
 "nbformat_minor": 2
}
