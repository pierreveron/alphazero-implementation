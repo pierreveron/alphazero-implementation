{
 "cells": [
  {
   "cell_type": "code",
   "execution_count": null,
   "metadata": {},
   "outputs": [],
   "source": [
    "%load_ext autoreload\n",
    "%autoreload 2"
   ]
  },
  {
   "cell_type": "code",
   "execution_count": 10,
   "metadata": {},
   "outputs": [],
   "source": [
    "from simulator.game.connect import Config, State\n",
    "\n",
    "from alphazero_implementation.models.games.connect4 import CNNModel\n",
    "\n",
    "config = Config(6, 7, 4)\n",
    "\n",
    "\n",
    "path = \"/Users/pveron/Code/alphazero-implementation/checkpoints/run_156/model-epoch=1999.ckpt\"\n",
    "model = CNNModel.load_from_checkpoint(  # type: ignore[arg-type]\n",
    "    path,\n",
    "    height=config.height,\n",
    "    width=config.width,\n",
    "    max_actions=config.width,\n",
    "    num_players=config.num_players,\n",
    ").eval()\n"
   ]
  },
  {
   "cell_type": "code",
   "execution_count": 11,
   "metadata": {},
   "outputs": [],
   "source": [
    "state = config.sample_initial_state()\n",
    "json = {\n",
    "    \"config\": {\"count\": 4, \"height\": 6, \"width\": 7},\n",
    "    \"grid\": [\n",
    "        [0, 0, 0, -1, -1, 1, -1],\n",
    "        [-1, -1, -1, -1, -1, 1, -1],\n",
    "        [-1, -1, -1, -1, -1, 1, -1],\n",
    "        [-1, -1, -1, -1, -1, -1, -1],\n",
    "        [-1, -1, -1, -1, -1, -1, -1],\n",
    "        [-1, -1, -1, -1, -1, -1, -1],\n",
    "    ],\n",
    "    \"player\": 0,\n",
    "}\n",
    "\n",
    "state = State.from_json(json)"
   ]
  },
  {
   "cell_type": "code",
   "execution_count": null,
   "metadata": {},
   "outputs": [],
   "source": [
    "from alphazero_implementation.core.training import EpisodeGenerator\n",
    "\n",
    "mcts = EpisodeGenerator(\n",
    "    model=model,\n",
    "    num_simulations=100,\n",
    "    num_episodes=1,\n",
    "    game_initial_state=state,\n",
    ")\n",
    "\n",
    "[episode] = mcts.generate_episodes()\n",
    "\n",
    "for sample in episode.samples:\n",
    "    print(sample.state.grid)\n",
    "    for action, prob in sample.policy.items():\n",
    "        print(f\"{action.column}: {prob}\")\n",
    "    print(sample.value)\n"
   ]
  },
  {
   "cell_type": "code",
   "execution_count": 13,
   "metadata": {},
   "outputs": [],
   "source": [
    "import json\n",
    "\n",
    "with open(\"episode.json\", \"w\") as f:\n",
    "    json.dump(episode.to_dict(), f)"
   ]
  },
  {
   "cell_type": "code",
   "execution_count": 14,
   "metadata": {},
   "outputs": [],
   "source": [
    "from alphazero_implementation.core.training.episode import Episode\n",
    "\n",
    "episode = Episode.from_dict(json.load(open(\"episode.json\")))"
   ]
  },
  {
   "cell_type": "code",
   "execution_count": null,
   "metadata": {},
   "outputs": [],
   "source": [
    "episode"
   ]
  },
  {
   "cell_type": "code",
   "execution_count": null,
   "metadata": {},
   "outputs": [],
   "source": []
  }
 ],
 "metadata": {
  "kernelspec": {
   "display_name": ".venv",
   "language": "python",
   "name": "python3"
  },
  "language_info": {
   "codemirror_mode": {
    "name": "ipython",
    "version": 3
   },
   "file_extension": ".py",
   "mimetype": "text/x-python",
   "name": "python",
   "nbconvert_exporter": "python",
   "pygments_lexer": "ipython3",
   "version": "3.12.2"
  }
 },
 "nbformat": 4,
 "nbformat_minor": 2
}
