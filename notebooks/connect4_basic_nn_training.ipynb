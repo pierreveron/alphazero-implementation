{
 "cells": [
  {
   "cell_type": "code",
   "execution_count": 1,
   "metadata": {},
   "outputs": [],
   "source": [
    "import numpy as np\n",
    "import torch\n",
    "from numpy.typing import NDArray\n",
    "\n",
    "\n",
    "def list_to_tensor_numpy(grid_list: list[NDArray[np.float64]]) -> torch.Tensor:\n",
    "    stacked = np.stack(grid_list)\n",
    "    return torch.tensor(stacked, dtype=torch.float32)"
   ]
  },
  {
   "cell_type": "code",
   "execution_count": null,
   "metadata": {},
   "outputs": [],
   "source": [
    "from simulator.game.connect import Config  # type: ignore[import]\n",
    "\n",
    "from alphazero_implementation.models.games.connect4 import BasicNN\n",
    "\n",
    "game_config = Config(6, 7, 4)\n",
    "\n",
    "\n",
    "model = BasicNN(\n",
    "    height=game_config.height,\n",
    "    width=game_config.width,\n",
    "    max_actions=game_config.width,\n",
    "    num_players=game_config.num_players,\n",
    ")\n",
    "\n",
    "initial_state = game_config.sample_initial_state()\n",
    "\n",
    "\n",
    "state_inputs = list_to_tensor_numpy([initial_state.grid for _ in range(3)])\n",
    "\n",
    "tuples = [([0.0] * game_config.width, [1.0, -1.0]) for _ in range(3)]\n",
    "\n",
    "target_values = torch.FloatTensor(\n",
    "    [[0.0] * game_config.width + [1.0, -1.0] for _ in range(3)]\n",
    ")\n",
    "\n",
    "print(target_values)\n",
    "\n",
    "output_values = model.forward(state_inputs)\n",
    "output_values\n"
   ]
  },
  {
   "cell_type": "code",
   "execution_count": null,
   "metadata": {},
   "outputs": [],
   "source": [
    "import lightning as L\n",
    "from torch.utils.data import DataLoader, TensorDataset\n",
    "\n",
    "trainer = L.Trainer(max_epochs=10, log_every_n_steps=10, enable_progress_bar=True)\n",
    "\n",
    "policies: list[list[float]] = [[0.0] * game_config.width for _ in range(3)]\n",
    "values: list[list[float]] = [[0.0] * game_config.num_players for _ in range(3)]\n",
    "\n",
    "policy_targets = torch.FloatTensor(policies)\n",
    "value_targets = torch.FloatTensor(values)\n",
    "\n",
    "dataset = TensorDataset(state_inputs, policy_targets, value_targets)\n",
    "\n",
    "dataloader = DataLoader(dataset, batch_size=32, shuffle=True)\n",
    "\n",
    "trainer.fit(model, dataloader)\n"
   ]
  },
  {
   "cell_type": "code",
   "execution_count": null,
   "metadata": {},
   "outputs": [],
   "source": [
    "from alphazero_implementation.core.training import Trainer\n",
    "\n",
    "num_iterations = 50\n",
    "epochs_per_iter = 1\n",
    "simulations_per_episode = 200\n",
    "episodes_per_iter = 20\n",
    "\n",
    "trainer = Trainer(\n",
    "    model=model,\n",
    "    episodes_per_iter=episodes_per_iter,\n",
    "    simulations_per_episode=simulations_per_episode,\n",
    ")\n",
    "\n",
    "trainer.train(\n",
    "    num_iterations=num_iterations,\n",
    "    epochs_per_iter=epochs_per_iter,\n",
    "    initial_state=initial_state,\n",
    "    buffer_size=1000,\n",
    "    save_every_n_iterations=10,\n",
    ")\n"
   ]
  }
 ],
 "metadata": {
  "kernelspec": {
   "display_name": ".venv",
   "language": "python",
   "name": "python3"
  },
  "language_info": {
   "codemirror_mode": {
    "name": "ipython",
    "version": 3
   },
   "file_extension": ".py",
   "mimetype": "text/x-python",
   "name": "python",
   "nbconvert_exporter": "python",
   "pygments_lexer": "ipython3",
   "version": "3.12.2"
  }
 },
 "nbformat": 4,
 "nbformat_minor": 2
}
