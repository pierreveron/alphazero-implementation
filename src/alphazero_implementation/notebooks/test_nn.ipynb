{
 "cells": [
  {
   "cell_type": "code",
   "execution_count": 4,
   "metadata": {},
   "outputs": [],
   "source": [
    "import numpy as np\n",
    "import torch\n",
    "from numpy.typing import NDArray\n",
    "\n",
    "\n",
    "def list_to_tensor_numpy(grid_list: list[NDArray[np.float64]]) -> torch.Tensor:\n",
    "    stacked = np.stack(grid_list)\n",
    "    return torch.tensor(stacked, dtype=torch.float32)"
   ]
  },
  {
   "cell_type": "code",
   "execution_count": 5,
   "metadata": {},
   "outputs": [
    {
     "name": "stdout",
     "output_type": "stream",
     "text": [
      "torch.Size([3, 6, 7])\n",
      "torch.Size([3, 42])\n"
     ]
    },
    {
     "data": {
      "text/plain": [
       "(tensor([[ 0.0279,  0.0844, -0.0175,  0.0860,  0.0445, -0.1494,  0.1868],\n",
       "         [ 0.0279,  0.0844, -0.0175,  0.0860,  0.0445, -0.1494,  0.1868],\n",
       "         [ 0.0279,  0.0844, -0.0175,  0.0860,  0.0445, -0.1494,  0.1868]],\n",
       "        grad_fn=<AddmmBackward0>),\n",
       " tensor([[-0.0687, -0.0643],\n",
       "         [-0.0687, -0.0643],\n",
       "         [-0.0687, -0.0643]], grad_fn=<AddmmBackward0>))"
      ]
     },
     "execution_count": 5,
     "metadata": {},
     "output_type": "execute_result"
    }
   ],
   "source": [
    "from simulator.game.connect import Config  # type: ignore\n",
    "\n",
    "from alphazero_implementation.models.games.connect4.v1 import BasicNN\n",
    "\n",
    "game_config = Config(6, 7, 2)\n",
    "\n",
    "\n",
    "model = BasicNN(\n",
    "    height=game_config.height,\n",
    "    width=game_config.width,\n",
    "    max_actions=game_config.width,\n",
    "    num_players=game_config.num_players,\n",
    ")\n",
    "\n",
    "initial_state = game_config.sample_initial_state()\n",
    "\n",
    "\n",
    "input_values = list_to_tensor_numpy([initial_state.grid for _ in range(3)])\n",
    "\n",
    "output_values = model.forward(input_values)\n",
    "output_values\n"
   ]
  },
  {
   "cell_type": "code",
   "execution_count": null,
   "metadata": {},
   "outputs": [],
   "source": []
  }
 ],
 "metadata": {
  "kernelspec": {
   "display_name": ".venv",
   "language": "python",
   "name": "python3"
  },
  "language_info": {
   "codemirror_mode": {
    "name": "ipython",
    "version": 3
   },
   "file_extension": ".py",
   "mimetype": "text/x-python",
   "name": "python",
   "nbconvert_exporter": "python",
   "pygments_lexer": "ipython3",
   "version": "3.12.2"
  }
 },
 "nbformat": 4,
 "nbformat_minor": 2
}
