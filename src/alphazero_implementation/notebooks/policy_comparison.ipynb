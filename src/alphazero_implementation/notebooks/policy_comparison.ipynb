{
 "cells": [
  {
   "cell_type": "code",
   "execution_count": null,
   "metadata": {},
   "outputs": [],
   "source": [
    "%load_ext autoreload\n",
    "%autoreload 2"
   ]
  },
  {
   "cell_type": "code",
   "execution_count": 7,
   "metadata": {},
   "outputs": [],
   "source": [
    "from simulator.game.connect import Action, Config, State\n",
    "\n",
    "from alphazero_implementation.models.games.connect4 import CNNModel\n",
    "\n",
    "config = Config(6, 7, 4)\n",
    "\n",
    "\n",
    "path = \"/Users/pveron/Code/alphazero-implementation/checkpoints/run_156/model-epoch=1999.ckpt\"\n",
    "model = CNNModel.load_from_checkpoint(  # type: ignore[arg-type]\n",
    "    path,\n",
    "    height=config.height,\n",
    "    width=config.width,\n",
    "    max_actions=config.width,\n",
    "    num_players=config.num_players,\n",
    ").eval()\n"
   ]
  },
  {
   "cell_type": "code",
   "execution_count": 8,
   "metadata": {},
   "outputs": [],
   "source": [
    "state = config.sample_initial_state()\n",
    "json = {\n",
    "    \"config\": {\"count\": 4, \"height\": 6, \"width\": 7},\n",
    "    \"grid\": [\n",
    "        [0, 0, 0, -1, -1, 1, -1],\n",
    "        [-1, -1, -1, -1, -1, 1, -1],\n",
    "        [-1, -1, -1, -1, -1, 1, -1],\n",
    "        [-1, -1, -1, -1, -1, -1, -1],\n",
    "        [-1, -1, -1, -1, -1, -1, -1],\n",
    "        [-1, -1, -1, -1, -1, -1, -1],\n",
    "    ],\n",
    "    \"player\": 0,\n",
    "}\n",
    "\n",
    "state = State.from_json(json)"
   ]
  },
  {
   "cell_type": "code",
   "execution_count": 9,
   "metadata": {},
   "outputs": [],
   "source": [
    "def raw_policy(state: State) -> dict[Action, float]:\n",
    "    [policy], _ = model.predict([state])\n",
    "    return policy\n"
   ]
  },
  {
   "cell_type": "code",
   "execution_count": 10,
   "metadata": {},
   "outputs": [],
   "source": [
    "from alphazero_implementation.search.mcts import AlphaZeroSearch, Node\n",
    "\n",
    "\n",
    "def mcts_improved_policy(\n",
    "    state: State, num_simulations: int = 100\n",
    ") -> dict[Action, float]:\n",
    "    mcts = AlphaZeroSearch(model=model, num_simulations=num_simulations)\n",
    "    return mcts.run(Node(state))\n"
   ]
  },
  {
   "cell_type": "code",
   "execution_count": null,
   "metadata": {},
   "outputs": [],
   "source": [
    "def print_policy(policy: dict[Action, float]):\n",
    "    for action, prob in policy.items():\n",
    "        print(f\"{action.column}: {prob:.4f}\")\n",
    "\n",
    "\n",
    "# Compare the three different policy functions\n",
    "state_policy = raw_policy(state)\n",
    "\n",
    "mcts_policy = mcts_improved_policy(state)\n",
    "\n",
    "\n",
    "print(\"Raw policy:\")\n",
    "print_policy(state_policy)\n",
    "print()\n",
    "\n",
    "print(\"MCTS policy:\")\n",
    "print_policy(mcts_policy)\n",
    "print()\n"
   ]
  },
  {
   "cell_type": "code",
   "execution_count": null,
   "metadata": {},
   "outputs": [],
   "source": []
  }
 ],
 "metadata": {
  "kernelspec": {
   "display_name": ".venv",
   "language": "python",
   "name": "python3"
  },
  "language_info": {
   "codemirror_mode": {
    "name": "ipython",
    "version": 3
   },
   "file_extension": ".py",
   "mimetype": "text/x-python",
   "name": "python",
   "nbconvert_exporter": "python",
   "pygments_lexer": "ipython3",
   "version": "3.12.2"
  }
 },
 "nbformat": 4,
 "nbformat_minor": 2
}
