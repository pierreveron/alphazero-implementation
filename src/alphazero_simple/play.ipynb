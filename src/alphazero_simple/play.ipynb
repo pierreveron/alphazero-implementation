{
 "cells": [
  {
   "cell_type": "code",
   "execution_count": 1,
   "metadata": {},
   "outputs": [
    {
     "name": "stderr",
     "output_type": "stream",
     "text": [
      "/var/folders/fx/6dqjm66n7w9932hnvvv67fvr0000gn/T/ipykernel_83504/956959503.py:26: FutureWarning: You are using `torch.load` with `weights_only=False` (the current default value), which uses the default pickle module implicitly. It is possible to construct malicious pickle data which will execute arbitrary code during unpickling (See https://github.com/pytorch/pytorch/blob/main/SECURITY.md#untrusted-models for more details). In a future release, the default value for `weights_only` will be flipped to `True`. This limits the functions that could be executed during unpickling. Arbitrary objects will no longer be allowed to be loaded via this mode unless they are explicitly allowlisted by the user via `torch.serialization.add_safe_globals`. We recommend you start setting `weights_only=True` for any use case where you don't have full control of the loaded file. Please open an issue on GitHub for any issues related to this experimental feature.\n",
      "  checkpoint = torch.load(checkpoint_path)\n"
     ]
    },
    {
     "data": {
      "text/plain": [
       "ResNet(\n",
       "  (input_conv): Sequential(\n",
       "    (0): Conv2d(3, 128, kernel_size=(3, 3), stride=(1, 1), padding=(1, 1))\n",
       "    (1): BatchNorm2d(128, eps=1e-05, momentum=0.1, affine=True, track_running_stats=True)\n",
       "    (2): ReLU()\n",
       "  )\n",
       "  (residual_blocks): ModuleList(\n",
       "    (0-8): 9 x ResBlock(\n",
       "      (conv1): Conv2d(128, 128, kernel_size=(3, 3), stride=(1, 1), padding=(1, 1))\n",
       "      (bn1): BatchNorm2d(128, eps=1e-05, momentum=0.1, affine=True, track_running_stats=True)\n",
       "      (conv2): Conv2d(128, 128, kernel_size=(3, 3), stride=(1, 1), padding=(1, 1))\n",
       "      (bn2): BatchNorm2d(128, eps=1e-05, momentum=0.1, affine=True, track_running_stats=True)\n",
       "    )\n",
       "  )\n",
       "  (policy_head): Sequential(\n",
       "    (0): Conv2d(128, 32, kernel_size=(1, 1), stride=(1, 1))\n",
       "    (1): BatchNorm2d(32, eps=1e-05, momentum=0.1, affine=True, track_running_stats=True)\n",
       "    (2): ReLU()\n",
       "    (3): Flatten(start_dim=1, end_dim=-1)\n",
       "    (4): Linear(in_features=1344, out_features=7, bias=True)\n",
       "  )\n",
       "  (value_head): Sequential(\n",
       "    (0): Conv2d(128, 3, kernel_size=(3, 3), stride=(1, 1), padding=(1, 1))\n",
       "    (1): BatchNorm2d(3, eps=1e-05, momentum=0.1, affine=True, track_running_stats=True)\n",
       "    (2): ReLU()\n",
       "    (3): Flatten(start_dim=1, end_dim=-1)\n",
       "    (4): Linear(in_features=126, out_features=1, bias=True)\n",
       "  )\n",
       ")"
      ]
     },
     "execution_count": 1,
     "metadata": {},
     "output_type": "execute_result"
    }
   ],
   "source": [
    "import numpy as np\n",
    "import torch\n",
    "\n",
    "from alphazero_simple.connect4_game import Connect4Game\n",
    "from alphazero_simple.resnet import ResNet\n",
    "\n",
    "# Initialize game and get dimensions\n",
    "game = Connect4Game()\n",
    "board_size = game.get_board_size()\n",
    "action_size = game.get_action_size()\n",
    "\n",
    "# Create model instance\n",
    "model = ResNet(board_size, action_size, 9, 128)\n",
    "\n",
    "# Load saved weights\n",
    "checkpoint_path = \"/Users/pveron/Code/alphazero-implementation/lightning_logs/alphazero_less_simple/run_278_ResNet_iter200_episodes100_sims100/checkpoints/epoch=1919-step=3941250.ckpt\"\n",
    "checkpoint = torch.load(checkpoint_path)\n",
    "model.load_state_dict(checkpoint[\"state_dict\"])\n",
    "model.eval()\n"
   ]
  },
  {
   "cell_type": "code",
   "execution_count": 11,
   "metadata": {},
   "outputs": [
    {
     "name": "stdout",
     "output_type": "stream",
     "text": [
      "\n",
      "Game starts! You are X, AI is O\n",
      "| . . . . . . . |\n",
      "| . . . . . . . |\n",
      "| . . . . . . . |\n",
      "| . . . . . . . |\n",
      "| . . . . . . . |\n",
      "| . . . . . . . |\n",
      "-----------------\n",
      "| 0 1 2 3 4 5 6 |\n",
      "AI is thinking...\n",
      "root.value(): 0.341232116445899 predicted_value: 0.28778875\n",
      "| . . . . . . . |\n",
      "| . . . . . . . |\n",
      "| . . . . . . . |\n",
      "| . . . . . . . |\n",
      "| . . . . . . . |\n",
      "| . . . O . . . |\n",
      "-----------------\n",
      "| 0 1 2 3 4 5 6 |\n",
      "invalid literal for int() with base 10: ''\n",
      "\n",
      "Exiting game...\n"
     ]
    },
    {
     "ename": "SystemExit",
     "evalue": "",
     "output_type": "error",
     "traceback": [
      "An exception has occurred, use %tb to see the full traceback.\n",
      "\u001b[0;31mSystemExit\u001b[0m\n"
     ]
    },
    {
     "name": "stderr",
     "output_type": "stream",
     "text": [
      "/Users/pveron/Code/alphazero-implementation/.venv/lib/python3.12/site-packages/IPython/core/interactiveshell.py:3585: UserWarning: To exit: use 'exit', 'quit', or Ctrl-D.\n",
      "  warn(\"To exit: use 'exit', 'quit', or Ctrl-D.\", stacklevel=1)\n"
     ]
    }
   ],
   "source": [
    "import sys\n",
    "\n",
    "from alphazero_simple.monte_carlo_tree_search import MCTS\n",
    "\n",
    "\n",
    "def print_board(board: np.ndarray):\n",
    "    for row in board:\n",
    "        print(\"|\", end=\" \")\n",
    "        for cell in row:\n",
    "            if cell == 0:\n",
    "                print(\".\", end=\" \")\n",
    "            elif cell == 1:\n",
    "                print(\"X\", end=\" \")\n",
    "            else:\n",
    "                print(\"O\", end=\" \")\n",
    "        print(\"|\")\n",
    "    print(\"-\" * (board.shape[1] * 2 + 3))\n",
    "    print(\"|\", end=\" \")\n",
    "    for i in range(board.shape[1]):\n",
    "        print(i, end=\" \")\n",
    "    print(\"|\")\n",
    "\n",
    "\n",
    "def get_human_move(valid_moves):\n",
    "    while True:\n",
    "        try:\n",
    "            move = input(\"Enter your move (0-6):\")\n",
    "            move = int(move)\n",
    "            if 0 <= move <= 6 and valid_moves[move]:\n",
    "                return move\n",
    "            else:\n",
    "                print(\"Invalid move. Try again.\")\n",
    "        except ValueError as e:\n",
    "            if e.args[0] == \"invalid literal for int() with base 10: ''\":\n",
    "                print(\"\\nExiting game...\")\n",
    "                sys.exit()\n",
    "            print(\"Please enter a number between 0 and 6.\")\n",
    "\n",
    "\n",
    "# Initialize game state\n",
    "mcts = MCTS(game, model, 100)\n",
    "state = game.get_init_board()\n",
    "current_player = -1  # 1 for human (X), -1 for AI (O)\n",
    "\n",
    "print(\"\\nGame starts! You are X, AI is O\")\n",
    "print_board(state)\n",
    "\n",
    "while True:\n",
    "    valid_moves = game.get_valid_moves(state)\n",
    "\n",
    "    if current_player == 1:  # Human's turn\n",
    "        action = get_human_move(valid_moves)\n",
    "    else:  # AI's turn\n",
    "        print(\"AI is thinking...\")\n",
    "        canonical_board = game.get_canonical_board(state, current_player)\n",
    "        root = mcts.run(canonical_board, 1)\n",
    "        _, [predicted_value] = model.predict([canonical_board])\n",
    "        print(\"root.value():\", root.value(), \"predicted_value:\", predicted_value)\n",
    "        action = root.select_action(temperature=0)\n",
    "\n",
    "    # Make move\n",
    "    state, current_player = game.get_next_state(state, current_player, action)\n",
    "    print_board(state)\n",
    "\n",
    "    # Check for game end\n",
    "    reward = game.get_reward_for_player(state, current_player)\n",
    "    if reward is not None:\n",
    "        if reward == 1:\n",
    "            print(\n",
    "                \"Game Over! You win!\" if current_player == 1 else \"Game Over! AI wins!\"\n",
    "            )\n",
    "        elif reward == -1:\n",
    "            print(\n",
    "                \"Game Over! AI wins!\" if current_player == 1 else \"Game Over! You win!\"\n",
    "            )\n",
    "        else:\n",
    "            print(\"Game Over! It's a draw!\")\n",
    "        break\n"
   ]
  },
  {
   "cell_type": "code",
   "execution_count": null,
   "metadata": {},
   "outputs": [],
   "source": [
    "\n"
   ]
  }
 ],
 "metadata": {
  "kernelspec": {
   "display_name": ".venv",
   "language": "python",
   "name": "python3"
  },
  "language_info": {
   "codemirror_mode": {
    "name": "ipython",
    "version": 3
   },
   "file_extension": ".py",
   "mimetype": "text/x-python",
   "name": "python",
   "nbconvert_exporter": "python",
   "pygments_lexer": "ipython3",
   "version": "3.12.2"
  }
 },
 "nbformat": 4,
 "nbformat_minor": 2
}
